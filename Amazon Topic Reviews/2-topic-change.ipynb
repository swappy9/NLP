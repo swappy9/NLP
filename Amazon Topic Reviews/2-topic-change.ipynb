{
 "cells": [
  {
   "cell_type": "code",
   "execution_count": 1,
   "metadata": {},
   "outputs": [],
   "source": [
    "import numpy as np\n",
    "import pandas as pd\n",
    "import csv\n",
    "import nltk\n",
    "import string\n",
    "import re\n",
    "import matplotlib.pyplot as plt\n",
    "import math\n",
    "from nltk.corpus import stopwords\n",
    "from nltk.stem import PorterStemmer\n",
    "from nltk.stem.porter import PorterStemmer\n",
    "from sklearn.metrics.pairwise import linear_kernel\n",
    "from nltk.tokenize import RegexpTokenizer\n",
    "from sklearn.feature_extraction.text import TfidfVectorizer\n",
    "\n"
   ]
  },
  {
   "cell_type": "code",
   "execution_count": 6,
   "metadata": {},
   "outputs": [],
   "source": [
    "#Document creation based on Date\n",
    "\n",
    "date_data = [[] for x in range(0, 38)]\n",
    "\n",
    "with open('Homework_1.csv', 'r') as Amazoncsvfile:\n",
    "    csvreader = csv.reader(Amazoncsvfile, delimiter = \"^\")\n",
    "    #for i in productid:\n",
    "    for row in csvreader:\n",
    "        if row[0] == '8':\n",
    "            date_data.append([row[3], row[-2]])"
   ]
  },
  {
   "cell_type": "code",
   "execution_count": 93,
   "metadata": {},
   "outputs": [],
   "source": [
    "doc_set = [w for w in date_data if w != []]\n",
    "#doc_set[0][0]"
   ]
  },
  {
   "cell_type": "code",
   "execution_count": 94,
   "metadata": {},
   "outputs": [],
   "source": [
    "date_set = []\n",
    "for i in range(0, len(doc_set)):\n",
    "    date_set.append(doc_set[i][0])"
   ]
  },
  {
   "cell_type": "code",
   "execution_count": 95,
   "metadata": {},
   "outputs": [],
   "source": [
    "date_set = list(set(date_set))"
   ]
  },
  {
   "cell_type": "code",
   "execution_count": 71,
   "metadata": {},
   "outputs": [],
   "source": [
    "#date_set"
   ]
  },
  {
   "cell_type": "code",
   "execution_count": 96,
   "metadata": {},
   "outputs": [],
   "source": [
    "text_set = [[] for w in range(0, len(date_set))]\n",
    "for i in range(0, len(date_set)):\n",
    "    for j in range(0, len(doc_set)):\n",
    "        if date_set[i] == doc_set[j][0]:\n",
    "            text_set[i].append(doc_set[j][1])"
   ]
  },
  {
   "cell_type": "code",
   "execution_count": 97,
   "metadata": {},
   "outputs": [],
   "source": [
    "final_text_set = [''.join(x) for x in text_set]"
   ]
  },
  {
   "cell_type": "code",
   "execution_count": 81,
   "metadata": {},
   "outputs": [],
   "source": [
    "#len(final_text_set)"
   ]
  },
  {
   "cell_type": "code",
   "execution_count": 84,
   "metadata": {},
   "outputs": [],
   "source": [
    "doc_lowers = [doc.lower() for doc in final_text_set]\n",
    "#print( doc_lowers)"
   ]
  },
  {
   "cell_type": "code",
   "execution_count": 85,
   "metadata": {},
   "outputs": [],
   "source": [
    "import string\n",
    "\n",
    "doc_no_punctuation = [doc.translate(str.maketrans('','',string.punctuation))for doc in doc_lowers]\n",
    "#print (doc_no_punctuation)"
   ]
  },
  {
   "cell_type": "code",
   "execution_count": 86,
   "metadata": {},
   "outputs": [],
   "source": [
    "import nltk\n",
    "doc_tokens = [nltk.word_tokenize(doc) for doc in doc_no_punctuation]\n",
    "#print (doc_tokens)"
   ]
  },
  {
   "cell_type": "code",
   "execution_count": 87,
   "metadata": {},
   "outputs": [],
   "source": [
    "#stop word removal\n",
    "from nltk.corpus import stopwords\n",
    "from nltk.stem import PorterStemmer\n",
    "ps = PorterStemmer()\n",
    "\n",
    "doc_stemmed = []\n",
    "for one_doc in doc_tokens:\n",
    "    doc_filtered = [w for w in one_doc if not w in stopwords.words(\"english\")]\n",
    "    doc_stem = [ps.stem(w) for w in doc_filtered]\n",
    "    doc_stemmed.append(doc_stem)\n",
    "#print (doc_stemmed)"
   ]
  },
  {
   "cell_type": "code",
   "execution_count": 88,
   "metadata": {},
   "outputs": [
    {
     "name": "stderr",
     "output_type": "stream",
     "text": [
      "c:\\python34\\lib\\site-packages\\gensim\\utils.py:862: UserWarning: detected Windows; aliasing chunkize to chunkize_serial\n",
      "  warnings.warn(\"detected Windows; aliasing chunkize to chunkize_serial\")\n"
     ]
    }
   ],
   "source": [
    "from gensim import corpora, models\n",
    "\n",
    "dictionary = corpora.Dictionary(doc_stemmed)"
   ]
  },
  {
   "cell_type": "code",
   "execution_count": 89,
   "metadata": {},
   "outputs": [],
   "source": [
    "from tabulate import tabulate\n",
    "import gensim"
   ]
  },
  {
   "cell_type": "code",
   "execution_count": 92,
   "metadata": {},
   "outputs": [
    {
     "name": "stdout",
     "output_type": "stream",
     "text": [
      "2015-10-15           0.81 * ['good', 'use', 'love']          0.01 * ['great', 'job', 'fine']\n",
      "2015-10-23           0.905 * ['coffe', 'grind', 'fine']          0.005 * ['grind', 'grinder', 'coffe']\n",
      "2015-10-25           0.8812 * ['small', 'work', 'end']          0.0063 * ['grind', 'work', 'well']\n",
      "2015-11-11           0.9406 * ['coffe', 'use', 'grind']          0.0031 * ['grind', 'work', 'well']\n",
      "2015-11-16           0.8643 * ['grind', 'grinder', 'coffe']          0.0071 * ['grind', 'bought', 'enough']\n",
      "2015-11-19           0.9321 * ['coffe', 'grind', 'fine']          0.0036 * ['great', 'job', 'fine']\n",
      "2015-11-21           0.9136 * ['coffe', 'use', 'bean']          0.0045 * ['coffe', 'use', 'grind']\n",
      "2015-11-22           0.525 * ['love', 'great', 'product']          0.025 * ['spice', 'mill', 'grind']\n",
      "2015-11-23           0.9406 * ['coffe', 'use', 'bean']          0.0031 * ['grind', 'grinder', 'coffe']\n",
      "2015-12-01           0.9661 * ['grind', 'grinder', 'coffe']          0.0018 * ['coffe', 'use', 'grind']\n",
      "2015-12-04           0.905 * ['coffe', 'becom', 'need']          0.005 * ['grind', 'grinder', 'coffe']\n",
      "2015-12-08           0.9208 * ['great', 'job', 'fine']          0.0042 * ['coffe', 'use', 'grind']\n",
      "2015-12-16           0.7625 * ['power', 'good', 'work']          0.0125 * ['good', 'use', 'love']\n",
      "2015-12-22           0.9923 * ['use', 'grinder', 'grind']          0.0004 * ['coffe', 'use', 'grind']\n",
      "2015-12-23           0.9367 * ['coffe', 'use', 'grind']          0.0033 * ['good', 'use', 'love']\n",
      "2015-12-24           0.525 * ['grind', 'grinder', 'coffe']          0.025 * ['coffe', 'use', 'grind']\n",
      "2015-12-25           0.6833 * ['great', 'job', 'fine']          0.0167 * ['good', 'use', 'love']\n",
      "2015-12-26           0.9672 * ['coffe', 'use', 'grind']          0.0017 * ['grind', 'coffe', 'use']\n",
      "2015-12-27           0.9694 * ['grind', 'grinder', 'coffe']          0.0016 * ['grind', 'coffe', 'use']\n",
      "2015-12-30           0.9136 * ['grind', 'grinder', 'coffe']          0.0045 * ['grind', 'coffe', 'use']\n",
      "2015-12-31           0.9694 * ['coffe', 'use', 'grind']          0.0016 * ['use', 'grinder', 'grind']\n",
      "2016-01-02           0.9892 * ['spice', 'mill', 'grind']          0.0006 * ['coffe', 'use', 'grind']\n",
      "2016-01-03           0.9208 * ['love', 'great', 'product']          0.0042 * ['great', 'job', 'fine']\n",
      "2016-01-04           0.6833 * ['valu', 'great', 'grind']          0.0167 * ['grind', 'work', 'well']\n",
      "2016-01-06           0.9768 * ['grind', 'grinder', 'coffe']          0.0012 * ['grind', 'work', 'well']\n",
      "2016-01-10           0.785 * ['grind', 'grinder', 'coffe']          0.1722 * ['spice', 'mill', 'grind']\n",
      "2016-01-11           0.9947 * ['grind', 'coffe', 'use']          0.0003 * ['grind', 'grinder', 'coffe']\n",
      "2016-01-12           0.8812 * ['good', 'use', 'love']          0.0063 * ['use', 'grinder', 'grind']\n",
      "2016-01-13           0.9441 * ['great', 'job', 'fine']          0.0029 * ['grind', 'coffe', 'use']\n",
      "2016-01-14           0.9784 * ['coffe', 'use', 'grind']          0.0011 * ['spice', 'mill', 'grind']\n",
      "2016-01-15           0.9928 * ['coffe', 'use', 'grind']          0.0004 * ['use', 'grinder', 'grind']\n",
      "2016-01-16           0.8634 * ['grind', 'work', 'well']          0.0787 * ['coffe', 'use', 'grind']\n",
      "2016-01-17           0.9824 * ['grind', 'bought', 'enough']          0.0009 * ['coffe', 'use', 'grind']\n",
      "2016-01-18           0.994 * ['grind', 'grinder', 'coffe']          0.0003 * ['coffe', 'use', 'grind']\n",
      "2016-01-19           0.9856 * ['coffe', 'use', 'grind']          0.0008 * ['grind', 'coffe', 'use']\n",
      "2016-01-20           0.9886 * ['grind', 'coffe', 'use']          0.0006 * ['coffe', 'use', 'grind']\n",
      "2016-01-21           0.9919 * ['coffe', 'use', 'grind']          0.0004 * ['grind', 'work', 'well']\n",
      "2016-01-22           0.9472 * ['grind', 'grinder', 'coffe']          0.0028 * ['coffe', 'use', 'grind']\n"
     ]
    }
   ],
   "source": [
    "corpus=[dictionary.doc2bow(text) for text in doc_stemmed]\n",
    "probability=[[] for x in range(len(corpus))]\n",
    "ldamodel = gensim.models.ldamodel.LdaModel(corpus, num_topics=20, id2word = dictionary, passes = 20)\n",
    "for i in range(len(corpus)):\n",
    "    probability[i]=ldamodel.get_document_topics(corpus[i],minimum_probability=0)\n",
    "    \n",
    "probability=[[list(p) for p in p1] for p1 in probability]\n",
    "x=ldamodel.show_topics(num_topics=20,num_words=3,formatted=False)\n",
    "topics = [(tp[0], [wd[0] for wd in tp[1]]) for tp in x]\n",
    " \n",
    "for a in probability:\n",
    "    for c,d in zip(a,topics):\n",
    "        c.append(d[1])\n",
    "[p.sort(key=lambda x:x[1],reverse=True) for p in probability]\n",
    "\n",
    "for i in range(len(corpus)):\n",
    "    a=probability[i][0:2]\n",
    "    print(date_set[i], '         ',str(round(a[0][1],4)),'*', str(a[0][2]), '        ',str(round(a[1][1],4)),'*',str(a[1][2]))\n"
   ]
  },
  {
   "cell_type": "code",
   "execution_count": null,
   "metadata": {},
   "outputs": [],
   "source": []
  },
  {
   "cell_type": "code",
   "execution_count": null,
   "metadata": {},
   "outputs": [],
   "source": []
  }
 ],
 "metadata": {
  "kernelspec": {
   "display_name": "Python 3",
   "language": "python",
   "name": "python3"
  },
  "language_info": {
   "codemirror_mode": {
    "name": "ipython",
    "version": 3
   },
   "file_extension": ".py",
   "mimetype": "text/x-python",
   "name": "python",
   "nbconvert_exporter": "python",
   "pygments_lexer": "ipython3",
   "version": "3.4.3"
  }
 },
 "nbformat": 4,
 "nbformat_minor": 2
}
